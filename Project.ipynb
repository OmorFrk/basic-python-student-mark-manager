{
  "nbformat": 4,
  "nbformat_minor": 0,
  "metadata": {
    "colab": {
      "provenance": []
    },
    "kernelspec": {
      "name": "python3",
      "display_name": "Python 3"
    },
    "language_info": {
      "name": "python"
    }
  },
  "cells": [
    {
      "cell_type": "code",
      "source": [
        "#9. Student Marks Manager\n",
        "\n",
        "#Adds a new student to the list\n",
        "def add_student(students):\n",
        "  name = input(\"Enter student name: \")\n",
        "  subject = input(\"Enter subject: \")\n",
        "  score = float(input(\"Enter score: \"))\n",
        "  students.append({\"name\": name, \"subject\": subject, \"score\": score})\n",
        "\n",
        "#Displays a specific student information\n",
        "def view_student(students):\n",
        "  name = input(\"Enter student name: \")\n",
        "  if not students:\n",
        "    print(\"No students found.\")\n",
        "  else:\n",
        "    print(f\"Marks for {name}\")\n",
        "    for student in students:\n",
        "      if student[\"name\"].lower() == name.lower():\n",
        "        print(f\"Subject: {student['subject']}, Score: {student['score']}\")\n",
        "\n",
        "#Updates the score for a specific student and subject\n",
        "def update_score(students):\n",
        "  name = input(\"Enter student name: \")\n",
        "  subject = input(\"Enter subject: \")\n",
        "  new_score = float(input(\"Enter new score: \"))\n",
        "  for student in students:\n",
        "    if student[\"name\"].lower() == name.lower() and student[\"subject\"].lower() == subject.lower():\n",
        "      student[\"score\"] = new_score\n",
        "      print(\"Score updated successfully!\")\n",
        "      return\n",
        "  print(\"Student not found.\")\n",
        "\n",
        "#Calculates the average score for a given student\n",
        "def calculate_average(students):\n",
        "  name = input(\"Enter student name: \")\n",
        "  total_score = 0\n",
        "  count = 0\n",
        "  for student in students:\n",
        "    if student[\"name\"].lower() == name.lower():\n",
        "      total_score += student[\"score\"]\n",
        "      count += 1\n",
        "  if count > 0:\n",
        "    return total_score / count\n",
        "  else:\n",
        "    return 0\n",
        "\n",
        "\n",
        "students = []  # List to store student information\n",
        "\n",
        "while True:\n",
        "  print(\"\\nStudent Marks Manager\")\n",
        "  print(\"1. Add Student\")\n",
        "  print(\"2. View Students\")\n",
        "  print(\"3. Update Student Score\")\n",
        "  print(\"4. Calculate Average Score\")\n",
        "  print(\"5. Exit\")\n",
        "  choice = input(\"Enter your choice: \")\n",
        "\n",
        "  if choice == '1':\n",
        "    add_student(students)\n",
        "  elif choice == '2':\n",
        "    view_student(students)\n",
        "  elif choice == '3':\n",
        "    update_score(students)\n",
        "  elif choice == '4':\n",
        "    average = calculate_average(students)\n",
        "    if average:\n",
        "      print(f\"Average score for {name}: {average}\")\n",
        "    else:\n",
        "      print(f\"No scores found for {name}.\")\n",
        "  elif choice == '5':\n",
        "    break\n",
        "  else:\n",
        "    print(\"Invalid choice.\")\n",
        "with open('StudentInfo.txt', 'w') as f:\n",
        "    for line in students:\n",
        "        f.write(f\"{line}\\n\")"
      ],
      "metadata": {
        "id": "Mn20pKSELU2X",
        "colab": {
          "base_uri": "https://localhost:8080/"
        },
        "outputId": "6c267179-fdde-4e5c-dfaf-5b98ab69a4e2"
      },
      "execution_count": 17,
      "outputs": [
        {
          "name": "stdout",
          "output_type": "stream",
          "text": [
            "\n",
            "Student Marks Manager\n",
            "1. Add Student\n",
            "2. View Students\n",
            "3. Update Student Score\n",
            "4. Calculate Average Score\n",
            "5. Exit\n",
            "Enter your choice: 1\n",
            "Enter student name: a\n",
            "Enter subject: b\n",
            "Enter score: 10\n",
            "\n",
            "Student Marks Manager\n",
            "1. Add Student\n",
            "2. View Students\n",
            "3. Update Student Score\n",
            "4. Calculate Average Score\n",
            "5. Exit\n",
            "Enter your choice: 1\n",
            "Enter student name: a\n",
            "Enter subject: c\n",
            "Enter score: 20\n",
            "\n",
            "Student Marks Manager\n",
            "1. Add Student\n",
            "2. View Students\n",
            "3. Update Student Score\n",
            "4. Calculate Average Score\n",
            "5. Exit\n",
            "Enter your choice: 4\n",
            "Enter student name: a\n",
            "Average score for Shapta: 15.0\n",
            "\n",
            "Student Marks Manager\n",
            "1. Add Student\n",
            "2. View Students\n",
            "3. Update Student Score\n",
            "4. Calculate Average Score\n",
            "5. Exit\n",
            "Enter your choice: 5\n"
          ]
        }
      ]
    },
    {
      "cell_type": "code",
      "source": [],
      "metadata": {
        "colab": {
          "base_uri": "https://localhost:8080/",
          "height": 141
        },
        "id": "cWSTG_jWun3F",
        "outputId": "8dff3de8-bbad-4e2b-cad0-41ce5a6d5bf4"
      },
      "execution_count": 15,
      "outputs": [
        {
          "output_type": "error",
          "ename": "TypeError",
          "evalue": "list indices must be integers or slices, not str",
          "traceback": [
            "\u001b[0;31m---------------------------------------------------------------------------\u001b[0m",
            "\u001b[0;31mTypeError\u001b[0m                                 Traceback (most recent call last)",
            "\u001b[0;32m<ipython-input-15-880b6ef3f53f>\u001b[0m in \u001b[0;36m<cell line: 0>\u001b[0;34m()\u001b[0m\n\u001b[0;32m----> 1\u001b[0;31m \u001b[0mlen\u001b[0m\u001b[0;34m(\u001b[0m\u001b[0mstudents\u001b[0m\u001b[0;34m[\u001b[0m\u001b[0;34m\"score\"\u001b[0m\u001b[0;34m]\u001b[0m\u001b[0;34m)\u001b[0m\u001b[0;34m\u001b[0m\u001b[0;34m\u001b[0m\u001b[0m\n\u001b[0m",
            "\u001b[0;31mTypeError\u001b[0m: list indices must be integers or slices, not str"
          ]
        }
      ]
    }
  ]
}